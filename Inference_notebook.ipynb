{
 "cells": [
  {
   "cell_type": "code",
   "execution_count": null,
   "id": "59d2589a",
   "metadata": {},
   "outputs": [],
   "source": [
    "!pip3 install google-cloud-aiplatform --upgrade --user"
   ]
  },
  {
   "cell_type": "code",
   "execution_count": null,
   "id": "c5e00d8e",
   "metadata": {},
   "outputs": [],
   "source": [
    "from google.cloud import aiplatform\n",
    "\n",
    "project_id = \"my-gcp-project\"\n",
    "endpoint_id = \"xxxxxxxxxxxxxxxx\"\n",
    "\n",
    "endpoint = aiplatform.Endpoint(\n",
    "    endpoint_name=f\"projects/{project_id}/locations/us-central1/endpoints/{endpoint_id}\"\n",
    ")"
   ]
  },
  {
   "cell_type": "code",
   "execution_count": null,
   "id": "78ea6349",
   "metadata": {},
   "outputs": [],
   "source": [
    "import base64\n",
    "\n",
    "encoded_string = \"\"\n",
    "\n",
    "with open(\"movie-poster-image.jpg\", \"rb\") as image_file:\n",
    "    encoded_string = base64.b64encode(image_file.read())"
   ]
  },
  {
   "cell_type": "code",
   "execution_count": null,
   "id": "fde5d6d4",
   "metadata": {},
   "outputs": [],
   "source": [
    "instance = [{\n",
    "      \"b64_string\": encoded_string.decode('utf-8')\n",
    "      }\n",
    "  ]"
   ]
  },
  {
   "cell_type": "code",
   "execution_count": null,
   "id": "0c7bf175",
   "metadata": {},
   "outputs": [],
   "source": [
    "prediction = endpoint.predict(instances=instance)"
   ]
  },
  {
   "cell_type": "code",
   "execution_count": null,
   "id": "a5618677",
   "metadata": {},
   "outputs": [],
   "source": [
    "print(prediction.predictions[0])"
   ]
  },
  {
   "cell_type": "code",
   "execution_count": null,
   "id": "042d264b",
   "metadata": {},
   "outputs": [],
   "source": []
  },
  {
   "cell_type": "code",
   "execution_count": null,
   "id": "e772ea53",
   "metadata": {},
   "outputs": [],
   "source": []
  }
 ],
 "metadata": {
  "environment": {
   "kernel": "python3",
   "name": "pytorch-gpu.1-11.m91",
   "type": "gcloud",
   "uri": "gcr.io/deeplearning-platform-release/pytorch-gpu.1-11:m91"
  },
  "kernelspec": {
   "display_name": "Python 3",
   "language": "python",
   "name": "python3"
  },
  "language_info": {
   "codemirror_mode": {
    "name": "ipython",
    "version": 3
   },
   "file_extension": ".py",
   "mimetype": "text/x-python",
   "name": "python",
   "nbconvert_exporter": "python",
   "pygments_lexer": "ipython3",
   "version": "3.7.12"
  }
 },
 "nbformat": 4,
 "nbformat_minor": 5
}
